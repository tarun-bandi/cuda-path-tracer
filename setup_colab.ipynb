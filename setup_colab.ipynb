{
 "cells": [
  {
   "cell_type": "markdown",
   "metadata": {},
   "source": [
    "# CUDA Volumetric Path Tracer Setup\n",
    "\n",
    "This notebook sets up and runs the CUDA-based volumetric path tracer in Google Colab.\n",
    "\n",
    "## Setup Instructions\n",
    "1. Make sure you have selected a GPU runtime (Runtime -> Change runtime type -> GPU)\n",
    "2. Run all cells in sequence\n",
    "3. The renderer will run in headless mode and save the output as a PPM image\n",
    "4. The image will be converted to PNG and displayed in the notebook"
   ]
  },
  {
   "cell_type": "code",
   "execution_count": null,
   "metadata": {},
   "outputs": [],
   "source": [
    "# Check CUDA availability and version\n",
    "!nvidia-smi\n",
    "!nvcc --version"
   ]
  },
  {
   "cell_type": "code",
   "execution_count": null,
   "metadata": {},
   "outputs": [],
   "source": [
    "# Install required dependencies\n",
    "!apt-get update\n",
    "!apt-get install -y cmake libglfw3-dev libglm-dev"
   ]
  },
  {
   "cell_type": "code",
   "execution_count": null,
   "metadata": {},
   "outputs": [],
   "source": [
    "# Clone the repository\n",
    "!rm -rf cuda-mandlebrot  # Remove if exists\n",
    "!git clone https://github.com/yourusername/cuda-mandlebrot.git\n",
    "%cd cuda-mandlebrot"
   ]
  },
  {
   "cell_type": "code",
   "execution_count": null,
   "metadata": {},
   "outputs": [],
   "source": [
    "# Create and enter build directory\n",
    "!mkdir -p build\n",
    "%cd build\n",
    "\n",
    "# Configure and build the project\n",
    "!cmake ..\n",
    "!make -j"
   ]
  },
  {
   "cell_type": "markdown",
   "metadata": {},
   "source": [
    "## Rendering Parameters\n",
    "\n",
    "Current settings:\n",
    "- Resolution: 1280x720\n",
    "- Samples per pixel: 1024\n",
    "- Maximum ray depth: 8\n",
    "\n",
    "You can modify these in the source code if needed."
   ]
  },
  {
   "cell_type": "code",
   "execution_count": null,
   "metadata": {},
   "outputs": [],
   "source": [
    "# Run the renderer in headless mode\n",
    "print(\"Starting render...\")\n",
    "!./VolumetricPathTracer --headless\n",
    "print(\"Render complete!\")"
   ]
  },
  {
   "cell_type": "code",
   "execution_count": null,
   "metadata": {},
   "outputs": [],
   "source": [
    "# Install ImageMagick for image conversion\n",
    "!apt-get install -y imagemagick\n",
    "\n",
    "# Convert PPM to PNG and display\n",
    "!convert output.ppm output.png\n",
    "\n",
    "from IPython.display import Image, display\n",
    "print(\"Displaying rendered image:\")\n",
    "display(Image(filename=\"output.png\"))"
   ]
  },
  {
   "cell_type": "markdown",
   "metadata": {},
   "source": [
    "## Scene Information\n",
    "\n",
    "The rendered scene includes:\n",
    "- A ground plane\n",
    "- A glass sphere\n",
    "- A light source\n",
    "- A volumetric smoke plume\n",
    "\n",
    "The scene uses:\n",
    "- Henyey-Greenstein phase function for volume scattering\n",
    "- Multiple importance sampling\n",
    "- Russian roulette for unbiased rendering"
   ]
  },
  {
   "cell_type": "code",
   "execution_count": null,
   "metadata": {},
   "outputs": [],
   "source": [
    "# Show rendering statistics\n",
    "!ls -lh output.ppm\n",
    "!identify output.png"
   ]
  }
 ],
 "metadata": {
  "kernelspec": {
   "display_name": "Python 3",
   "language": "python",
   "name": "python3"
  },
  "language_info": {
   "codemirror_mode": {
    "name": "ipython",
    "version": 3
   },
   "file_extension": ".py",
   "mimetype": "text/x-python",
   "name": "python",
   "nbconvert_exporter": "python",
   "pygments_lexer": "ipython3",
   "version": "3.8.0"
  }
 },
 "nbformat": 4,
 "nbformat_minor": 4
}
